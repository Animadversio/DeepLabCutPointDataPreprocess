{
 "cells": [
  {
   "cell_type": "code",
   "execution_count": 6,
   "metadata": {},
   "outputs": [],
   "source": [
    "# Input the path of config file, the dir containing all frames, and the txt file of points coordinates\n",
    "\n",
    "config_path = \"/Users/binxu/Documents/Carlos Lab/MacaqueFace/MacaqueFace-Binxu-2018-11-17/config.yaml\"\n",
    "img_dir = \"/Users/binxu/Documents/Carlos Lab/MacaqueFace/Faces/\" #\"/Users/binxu/Documents/Carlos Lab/MacaqueFace/MacaqueFace-Binxu-2018-11-17/labeled-data/2018-11-16_153501_069/\" # \"/Users/binxu/Documents/Carlos Lab/MacaqueFace/Faces/\"\n",
    "ptsdata_dir = \"/Users/binxu/Documents/Carlos Lab/MacaqueFace/Faces/Faces.txt\""
   ]
  },
  {
   "cell_type": "code",
   "execution_count": 7,
   "metadata": {},
   "outputs": [],
   "source": [
    "import pandas as pd\n",
    "import yaml\n",
    "import os\n",
    "\n",
    "with open(config_path, 'r') as stream:\n",
    "    data_loaded = yaml.load(stream)\n",
    "scorer = [ data_loaded['scorer'] ] # Note add [ ] for single string\n",
    "bodyparts = data_loaded['bodyparts']\n",
    "\n",
    "n_pts = len(bodyparts)\n",
    "tmp_labels = [[0] * n_pts *2 , [ i//2 for i in range(2*n_pts)], [0, 1] *n_pts]\n",
    "idx = pd.MultiIndex(levels=[scorer, bodyparts, ['x','y']], labels=tmp_labels, names=['scorer', 'bodyparts', 'coords'])\n",
    "\n",
    "fn_list = os.listdir(img_dir)\n",
    "fn_list_full = [img_dir+fn for fn in fn_list if \".png\" in fn]\n",
    "fn_list_full.sort()\n",
    "\n",
    "datatable = pd.DataFrame(index=fn_list_full,columns=idx,dtype=float)\n",
    "\n",
    "ptsdataframe = pd.read_table(ptsdata_dir, header=0, delimiter=\"\\s+\") \n",
    "\n",
    "assert ptsdataframe.slice.max() == len(fn_list_full) , \"Annotated frame number different from total frame number\" # png file list length is the same as pts data \n",
    "\n",
    "name = scorer[0]\n",
    "for idx in ptsdataframe.index:\n",
    "    tmp = ptsdataframe.xs(idx)\n",
    "    row_j = tmp.slice\n",
    "    part_name = bodyparts[tmp.color]\n",
    "    datatable[name][part_name]['x'].iloc[row_j-1] = tmp['x']\n",
    "    datatable[name][part_name]['y'].iloc[row_j-1] = tmp['y']\n",
    "\n",
    "datatable.to_csv(os.path.join(img_dir, \"CollectedData_\" + name + \".csv\") ) \n",
    "datatable.to_hdf(os.path.join(img_dir, \"CollectedData_\" + name + \".h5\") ,'df_with_missing', format='table', mode='w') "
   ]
  }
 ],
 "metadata": {
  "kernelspec": {
   "display_name": "Python 3",
   "language": "python",
   "name": "python3"
  },
  "language_info": {
   "codemirror_mode": {
    "name": "ipython",
    "version": 3
   },
   "file_extension": ".py",
   "mimetype": "text/x-python",
   "name": "python",
   "nbconvert_exporter": "python",
   "pygments_lexer": "ipython3",
   "version": "3.6.5"
  }
 },
 "nbformat": 4,
 "nbformat_minor": 2
}
